{
 "cells": [
  {
   "attachments": {},
   "cell_type": "markdown",
   "metadata": {},
   "source": [
    "<h1 align=center style=\"line-height:200%;font-family:vazir;color:#0099cc\">\n",
    "<font face=\"vazir\" color=\"#0099cc\">\n",
    "Step2 : correct format and outliers\n",
    "</font>\n",
    "</h1>"
   ]
  },
  {
   "cell_type": "code",
   "execution_count": 1,
   "metadata": {
    "id": "eBbDITFo3y7t"
   },
   "outputs": [
    {
     "data": {
      "text/html": [
       "<div>\n",
       "<style scoped>\n",
       "    .dataframe tbody tr th:only-of-type {\n",
       "        vertical-align: middle;\n",
       "    }\n",
       "\n",
       "    .dataframe tbody tr th {\n",
       "        vertical-align: top;\n",
       "    }\n",
       "\n",
       "    .dataframe thead th {\n",
       "        text-align: right;\n",
       "    }\n",
       "</style>\n",
       "<table border=\"1\" class=\"dataframe\">\n",
       "  <thead>\n",
       "    <tr style=\"text-align: right;\">\n",
       "      <th></th>\n",
       "      <th>Lng</th>\n",
       "      <th>Lat</th>\n",
       "      <th>tradeTime</th>\n",
       "      <th>DOM</th>\n",
       "      <th>totalPrice</th>\n",
       "      <th>square</th>\n",
       "      <th>livingRoom</th>\n",
       "      <th>drawingRoom</th>\n",
       "      <th>kitchen</th>\n",
       "      <th>bathRoom</th>\n",
       "      <th>floor</th>\n",
       "      <th>constructionTime</th>\n",
       "      <th>renovationCondition</th>\n",
       "      <th>buildingStructure</th>\n",
       "      <th>ladderRatio</th>\n",
       "      <th>elevator</th>\n",
       "      <th>subway</th>\n",
       "      <th>district</th>\n",
       "    </tr>\n",
       "  </thead>\n",
       "  <tbody>\n",
       "    <tr>\n",
       "      <th>0</th>\n",
       "      <td>116.475489</td>\n",
       "      <td>40.019520</td>\n",
       "      <td>2016-08-09</td>\n",
       "      <td>1464.0</td>\n",
       "      <td>415.0</td>\n",
       "      <td>131.00</td>\n",
       "      <td>2</td>\n",
       "      <td>1</td>\n",
       "      <td>1</td>\n",
       "      <td>1</td>\n",
       "      <td>高 26</td>\n",
       "      <td>2005</td>\n",
       "      <td>3</td>\n",
       "      <td>6</td>\n",
       "      <td>0.217</td>\n",
       "      <td>1.0</td>\n",
       "      <td>1.0</td>\n",
       "      <td>7</td>\n",
       "    </tr>\n",
       "    <tr>\n",
       "      <th>1</th>\n",
       "      <td>116.453917</td>\n",
       "      <td>39.881534</td>\n",
       "      <td>2016-07-28</td>\n",
       "      <td>903.0</td>\n",
       "      <td>575.0</td>\n",
       "      <td>132.38</td>\n",
       "      <td>2</td>\n",
       "      <td>2</td>\n",
       "      <td>1</td>\n",
       "      <td>2</td>\n",
       "      <td>高 22</td>\n",
       "      <td>2004</td>\n",
       "      <td>4</td>\n",
       "      <td>6</td>\n",
       "      <td>0.667</td>\n",
       "      <td>1.0</td>\n",
       "      <td>0.0</td>\n",
       "      <td>7</td>\n",
       "    </tr>\n",
       "    <tr>\n",
       "      <th>2</th>\n",
       "      <td>116.561978</td>\n",
       "      <td>39.877145</td>\n",
       "      <td>2016-12-11</td>\n",
       "      <td>1271.0</td>\n",
       "      <td>1030.0</td>\n",
       "      <td>198.00</td>\n",
       "      <td>3</td>\n",
       "      <td>2</td>\n",
       "      <td>1</td>\n",
       "      <td>3</td>\n",
       "      <td>中 4</td>\n",
       "      <td>2005</td>\n",
       "      <td>3</td>\n",
       "      <td>6</td>\n",
       "      <td>0.500</td>\n",
       "      <td>1.0</td>\n",
       "      <td>0.0</td>\n",
       "      <td>7</td>\n",
       "    </tr>\n",
       "    <tr>\n",
       "      <th>3</th>\n",
       "      <td>116.438010</td>\n",
       "      <td>40.076114</td>\n",
       "      <td>2016-09-30</td>\n",
       "      <td>965.0</td>\n",
       "      <td>297.5</td>\n",
       "      <td>134.00</td>\n",
       "      <td>3</td>\n",
       "      <td>1</td>\n",
       "      <td>1</td>\n",
       "      <td>1</td>\n",
       "      <td>底 21</td>\n",
       "      <td>2008</td>\n",
       "      <td>1</td>\n",
       "      <td>6</td>\n",
       "      <td>0.273</td>\n",
       "      <td>1.0</td>\n",
       "      <td>0.0</td>\n",
       "      <td>6</td>\n",
       "    </tr>\n",
       "    <tr>\n",
       "      <th>4</th>\n",
       "      <td>116.428392</td>\n",
       "      <td>39.886229</td>\n",
       "      <td>2016-08-28</td>\n",
       "      <td>927.0</td>\n",
       "      <td>392.0</td>\n",
       "      <td>81.00</td>\n",
       "      <td>2</td>\n",
       "      <td>1</td>\n",
       "      <td>1</td>\n",
       "      <td>1</td>\n",
       "      <td>中 6</td>\n",
       "      <td>1960</td>\n",
       "      <td>2</td>\n",
       "      <td>2</td>\n",
       "      <td>0.333</td>\n",
       "      <td>0.0</td>\n",
       "      <td>1.0</td>\n",
       "      <td>1</td>\n",
       "    </tr>\n",
       "  </tbody>\n",
       "</table>\n",
       "</div>"
      ],
      "text/plain": [
       "          Lng        Lat   tradeTime     DOM  totalPrice  square  livingRoom  \\\n",
       "0  116.475489  40.019520  2016-08-09  1464.0       415.0  131.00           2   \n",
       "1  116.453917  39.881534  2016-07-28   903.0       575.0  132.38           2   \n",
       "2  116.561978  39.877145  2016-12-11  1271.0      1030.0  198.00           3   \n",
       "3  116.438010  40.076114  2016-09-30   965.0       297.5  134.00           3   \n",
       "4  116.428392  39.886229  2016-08-28   927.0       392.0   81.00           2   \n",
       "\n",
       "   drawingRoom  kitchen  bathRoom floor constructionTime  renovationCondition  \\\n",
       "0            1        1         1  高 26             2005                    3   \n",
       "1            2        1         2  高 22             2004                    4   \n",
       "2            2        1         3   中 4             2005                    3   \n",
       "3            1        1         1  底 21             2008                    1   \n",
       "4            1        1         1   中 6             1960                    2   \n",
       "\n",
       "   buildingStructure  ladderRatio  elevator  subway  district  \n",
       "0                  6        0.217       1.0     1.0         7  \n",
       "1                  6        0.667       1.0     0.0         7  \n",
       "2                  6        0.500       1.0     0.0         7  \n",
       "3                  6        0.273       1.0     0.0         6  \n",
       "4                  2        0.333       0.0     1.0         1  "
      ]
     },
     "execution_count": 1,
     "metadata": {},
     "output_type": "execute_result"
    }
   ],
   "source": [
    "import pandas as pd\n",
    "\n",
    "housing_no_missing = pd.read_csv('housing_no_missing.csv', encoding='gbk')\n",
    "housing_no_missing.head()"
   ]
  },
  {
   "attachments": {},
   "cell_type": "markdown",
   "metadata": {},
   "source": [
    "some columns of our data has ordinal categorical types.now we want to convert their String names to number labels."
   ]
  },
  {
   "attachments": {},
   "cell_type": "markdown",
   "metadata": {
    "id": "R3GZlc608SVn"
   },
   "source": [
    "\n",
    "<b>elevator</b>\n",
    "<br>\n",
    "1 : 'has elevator' \n",
    "<br>\n",
    "0 : 'no elevator'\n",
    "<br>\n",
    "<br>\n",
    "<b>subway</b>\n",
    "<br>\n",
    "1 : 'has subway'\n",
    "<br>\n",
    "0 : 'no subway'\n",
    "<br>\n",
    "<br>\n",
    "<b>buildingStructure</b>\n",
    "<br>\n",
    "1 : 'unknown'\n",
    "<br>            \n",
    "2 : 'mixed'\n",
    "<br>\n",
    "                           3 : 'brick and wood' \n",
    "<br>\n",
    "                           4 : 'concrete'\n",
    "<br>\n",
    "                           5 : 'steel'\n",
    "<br>\n",
    "                           6 : 'steel-concrete composite'\n",
    "<br>\n",
    "<br>\n",
    "<b>renovationCondition</b>\n",
    "<br>\n",
    "1 : 'other',\n",
    "<br>\n",
    "                             2 : 'rough'\n",
    "<br>\n",
    "                             3 : 'Simplicity'\n",
    "<br>\n",
    "                             4 : 'hardcover'\n",
    "<br>\n",
    "</code>\n",
    "</font>\n",
    "</p>"
   ]
  },
  {
   "cell_type": "code",
   "execution_count": 2,
   "metadata": {
    "id": "RGrc_FHi66ih"
   },
   "outputs": [
    {
     "data": {
      "text/html": [
       "<div>\n",
       "<style scoped>\n",
       "    .dataframe tbody tr th:only-of-type {\n",
       "        vertical-align: middle;\n",
       "    }\n",
       "\n",
       "    .dataframe tbody tr th {\n",
       "        vertical-align: top;\n",
       "    }\n",
       "\n",
       "    .dataframe thead th {\n",
       "        text-align: right;\n",
       "    }\n",
       "</style>\n",
       "<table border=\"1\" class=\"dataframe\">\n",
       "  <thead>\n",
       "    <tr style=\"text-align: right;\">\n",
       "      <th></th>\n",
       "      <th>Lng</th>\n",
       "      <th>Lat</th>\n",
       "      <th>tradeTime</th>\n",
       "      <th>DOM</th>\n",
       "      <th>totalPrice</th>\n",
       "      <th>square</th>\n",
       "      <th>livingRoom</th>\n",
       "      <th>drawingRoom</th>\n",
       "      <th>kitchen</th>\n",
       "      <th>bathRoom</th>\n",
       "      <th>floor</th>\n",
       "      <th>constructionTime</th>\n",
       "      <th>renovationCondition</th>\n",
       "      <th>buildingStructure</th>\n",
       "      <th>ladderRatio</th>\n",
       "      <th>elevator</th>\n",
       "      <th>subway</th>\n",
       "      <th>district</th>\n",
       "    </tr>\n",
       "  </thead>\n",
       "  <tbody>\n",
       "    <tr>\n",
       "      <th>0</th>\n",
       "      <td>116.475489</td>\n",
       "      <td>40.019520</td>\n",
       "      <td>2016-08-09</td>\n",
       "      <td>1464.0</td>\n",
       "      <td>415.0</td>\n",
       "      <td>131.00</td>\n",
       "      <td>2</td>\n",
       "      <td>1</td>\n",
       "      <td>1</td>\n",
       "      <td>1</td>\n",
       "      <td>高 26</td>\n",
       "      <td>2005</td>\n",
       "      <td>Simplicity</td>\n",
       "      <td>steel-concrete comosite</td>\n",
       "      <td>0.217</td>\n",
       "      <td>has elevator</td>\n",
       "      <td>has subway</td>\n",
       "      <td>7</td>\n",
       "    </tr>\n",
       "    <tr>\n",
       "      <th>1</th>\n",
       "      <td>116.453917</td>\n",
       "      <td>39.881534</td>\n",
       "      <td>2016-07-28</td>\n",
       "      <td>903.0</td>\n",
       "      <td>575.0</td>\n",
       "      <td>132.38</td>\n",
       "      <td>2</td>\n",
       "      <td>2</td>\n",
       "      <td>1</td>\n",
       "      <td>2</td>\n",
       "      <td>高 22</td>\n",
       "      <td>2004</td>\n",
       "      <td>hardcover</td>\n",
       "      <td>steel-concrete comosite</td>\n",
       "      <td>0.667</td>\n",
       "      <td>has elevator</td>\n",
       "      <td>no subway</td>\n",
       "      <td>7</td>\n",
       "    </tr>\n",
       "    <tr>\n",
       "      <th>2</th>\n",
       "      <td>116.561978</td>\n",
       "      <td>39.877145</td>\n",
       "      <td>2016-12-11</td>\n",
       "      <td>1271.0</td>\n",
       "      <td>1030.0</td>\n",
       "      <td>198.00</td>\n",
       "      <td>3</td>\n",
       "      <td>2</td>\n",
       "      <td>1</td>\n",
       "      <td>3</td>\n",
       "      <td>中 4</td>\n",
       "      <td>2005</td>\n",
       "      <td>Simplicity</td>\n",
       "      <td>steel-concrete comosite</td>\n",
       "      <td>0.500</td>\n",
       "      <td>has elevator</td>\n",
       "      <td>no subway</td>\n",
       "      <td>7</td>\n",
       "    </tr>\n",
       "    <tr>\n",
       "      <th>3</th>\n",
       "      <td>116.438010</td>\n",
       "      <td>40.076114</td>\n",
       "      <td>2016-09-30</td>\n",
       "      <td>965.0</td>\n",
       "      <td>297.5</td>\n",
       "      <td>134.00</td>\n",
       "      <td>3</td>\n",
       "      <td>1</td>\n",
       "      <td>1</td>\n",
       "      <td>1</td>\n",
       "      <td>底 21</td>\n",
       "      <td>2008</td>\n",
       "      <td>other</td>\n",
       "      <td>steel-concrete comosite</td>\n",
       "      <td>0.273</td>\n",
       "      <td>has elevator</td>\n",
       "      <td>no subway</td>\n",
       "      <td>6</td>\n",
       "    </tr>\n",
       "    <tr>\n",
       "      <th>4</th>\n",
       "      <td>116.428392</td>\n",
       "      <td>39.886229</td>\n",
       "      <td>2016-08-28</td>\n",
       "      <td>927.0</td>\n",
       "      <td>392.0</td>\n",
       "      <td>81.00</td>\n",
       "      <td>2</td>\n",
       "      <td>1</td>\n",
       "      <td>1</td>\n",
       "      <td>1</td>\n",
       "      <td>中 6</td>\n",
       "      <td>1960</td>\n",
       "      <td>rough</td>\n",
       "      <td>mixed</td>\n",
       "      <td>0.333</td>\n",
       "      <td>no elevator</td>\n",
       "      <td>has subway</td>\n",
       "      <td>1</td>\n",
       "    </tr>\n",
       "    <tr>\n",
       "      <th>...</th>\n",
       "      <td>...</td>\n",
       "      <td>...</td>\n",
       "      <td>...</td>\n",
       "      <td>...</td>\n",
       "      <td>...</td>\n",
       "      <td>...</td>\n",
       "      <td>...</td>\n",
       "      <td>...</td>\n",
       "      <td>...</td>\n",
       "      <td>...</td>\n",
       "      <td>...</td>\n",
       "      <td>...</td>\n",
       "      <td>...</td>\n",
       "      <td>...</td>\n",
       "      <td>...</td>\n",
       "      <td>...</td>\n",
       "      <td>...</td>\n",
       "      <td>...</td>\n",
       "    </tr>\n",
       "    <tr>\n",
       "      <th>318814</th>\n",
       "      <td>116.546899</td>\n",
       "      <td>39.755236</td>\n",
       "      <td>2016-06-10</td>\n",
       "      <td>1.0</td>\n",
       "      <td>350.0</td>\n",
       "      <td>170.07</td>\n",
       "      <td>3</td>\n",
       "      <td>2</td>\n",
       "      <td>1</td>\n",
       "      <td>2</td>\n",
       "      <td>中 5</td>\n",
       "      <td>2003</td>\n",
       "      <td>other</td>\n",
       "      <td>steel-concrete comosite</td>\n",
       "      <td>0.333</td>\n",
       "      <td>no elevator</td>\n",
       "      <td>no subway</td>\n",
       "      <td>3</td>\n",
       "    </tr>\n",
       "    <tr>\n",
       "      <th>318815</th>\n",
       "      <td>116.497474</td>\n",
       "      <td>39.810115</td>\n",
       "      <td>2016-06-10</td>\n",
       "      <td>1.0</td>\n",
       "      <td>108.8</td>\n",
       "      <td>35.09</td>\n",
       "      <td>1</td>\n",
       "      <td>0</td>\n",
       "      <td>1</td>\n",
       "      <td>1</td>\n",
       "      <td>中 24</td>\n",
       "      <td>2009</td>\n",
       "      <td>other</td>\n",
       "      <td>steel-concrete comosite</td>\n",
       "      <td>0.222</td>\n",
       "      <td>has elevator</td>\n",
       "      <td>has subway</td>\n",
       "      <td>3</td>\n",
       "    </tr>\n",
       "    <tr>\n",
       "      <th>318816</th>\n",
       "      <td>116.497256</td>\n",
       "      <td>39.804081</td>\n",
       "      <td>2016-06-05</td>\n",
       "      <td>1.0</td>\n",
       "      <td>359.0</td>\n",
       "      <td>102.17</td>\n",
       "      <td>2</td>\n",
       "      <td>2</td>\n",
       "      <td>1</td>\n",
       "      <td>2</td>\n",
       "      <td>中 7</td>\n",
       "      <td>2000</td>\n",
       "      <td>Simplicity</td>\n",
       "      <td>steel-concrete comosite</td>\n",
       "      <td>0.500</td>\n",
       "      <td>has elevator</td>\n",
       "      <td>no subway</td>\n",
       "      <td>3</td>\n",
       "    </tr>\n",
       "    <tr>\n",
       "      <th>318817</th>\n",
       "      <td>116.501794</td>\n",
       "      <td>39.799347</td>\n",
       "      <td>2016-06-12</td>\n",
       "      <td>1.0</td>\n",
       "      <td>720.0</td>\n",
       "      <td>178.34</td>\n",
       "      <td>4</td>\n",
       "      <td>2</td>\n",
       "      <td>1</td>\n",
       "      <td>2</td>\n",
       "      <td>中 5</td>\n",
       "      <td>2003</td>\n",
       "      <td>hardcover</td>\n",
       "      <td>mixed</td>\n",
       "      <td>0.500</td>\n",
       "      <td>no elevator</td>\n",
       "      <td>no subway</td>\n",
       "      <td>3</td>\n",
       "    </tr>\n",
       "    <tr>\n",
       "      <th>318818</th>\n",
       "      <td>116.497474</td>\n",
       "      <td>39.810115</td>\n",
       "      <td>2016-06-11</td>\n",
       "      <td>1.0</td>\n",
       "      <td>450.0</td>\n",
       "      <td>92.45</td>\n",
       "      <td>2</td>\n",
       "      <td>1</td>\n",
       "      <td>1</td>\n",
       "      <td>1</td>\n",
       "      <td>中 17</td>\n",
       "      <td>未知</td>\n",
       "      <td>hardcover</td>\n",
       "      <td>steel-concrete comosite</td>\n",
       "      <td>1.000</td>\n",
       "      <td>has elevator</td>\n",
       "      <td>has subway</td>\n",
       "      <td>3</td>\n",
       "    </tr>\n",
       "  </tbody>\n",
       "</table>\n",
       "<p>318819 rows × 18 columns</p>\n",
       "</div>"
      ],
      "text/plain": [
       "               Lng        Lat   tradeTime     DOM  totalPrice  square  \\\n",
       "0       116.475489  40.019520  2016-08-09  1464.0       415.0  131.00   \n",
       "1       116.453917  39.881534  2016-07-28   903.0       575.0  132.38   \n",
       "2       116.561978  39.877145  2016-12-11  1271.0      1030.0  198.00   \n",
       "3       116.438010  40.076114  2016-09-30   965.0       297.5  134.00   \n",
       "4       116.428392  39.886229  2016-08-28   927.0       392.0   81.00   \n",
       "...            ...        ...         ...     ...         ...     ...   \n",
       "318814  116.546899  39.755236  2016-06-10     1.0       350.0  170.07   \n",
       "318815  116.497474  39.810115  2016-06-10     1.0       108.8   35.09   \n",
       "318816  116.497256  39.804081  2016-06-05     1.0       359.0  102.17   \n",
       "318817  116.501794  39.799347  2016-06-12     1.0       720.0  178.34   \n",
       "318818  116.497474  39.810115  2016-06-11     1.0       450.0   92.45   \n",
       "\n",
       "        livingRoom  drawingRoom  kitchen  bathRoom floor constructionTime  \\\n",
       "0                2            1        1         1  高 26             2005   \n",
       "1                2            2        1         2  高 22             2004   \n",
       "2                3            2        1         3   中 4             2005   \n",
       "3                3            1        1         1  底 21             2008   \n",
       "4                2            1        1         1   中 6             1960   \n",
       "...            ...          ...      ...       ...   ...              ...   \n",
       "318814           3            2        1         2   中 5             2003   \n",
       "318815           1            0        1         1  中 24             2009   \n",
       "318816           2            2        1         2   中 7             2000   \n",
       "318817           4            2        1         2   中 5             2003   \n",
       "318818           2            1        1         1  中 17               未知   \n",
       "\n",
       "       renovationCondition        buildingStructure  ladderRatio  \\\n",
       "0               Simplicity  steel-concrete comosite        0.217   \n",
       "1                hardcover  steel-concrete comosite        0.667   \n",
       "2               Simplicity  steel-concrete comosite        0.500   \n",
       "3                    other  steel-concrete comosite        0.273   \n",
       "4                    rough                    mixed        0.333   \n",
       "...                    ...                      ...          ...   \n",
       "318814               other  steel-concrete comosite        0.333   \n",
       "318815               other  steel-concrete comosite        0.222   \n",
       "318816          Simplicity  steel-concrete comosite        0.500   \n",
       "318817           hardcover                    mixed        0.500   \n",
       "318818           hardcover  steel-concrete comosite        1.000   \n",
       "\n",
       "            elevator      subway  district  \n",
       "0       has elevator  has subway         7  \n",
       "1       has elevator   no subway         7  \n",
       "2       has elevator   no subway         7  \n",
       "3       has elevator   no subway         6  \n",
       "4        no elevator  has subway         1  \n",
       "...              ...         ...       ...  \n",
       "318814   no elevator   no subway         3  \n",
       "318815  has elevator  has subway         3  \n",
       "318816  has elevator   no subway         3  \n",
       "318817   no elevator   no subway         3  \n",
       "318818  has elevator  has subway         3  \n",
       "\n",
       "[318819 rows x 18 columns]"
      ]
     },
     "execution_count": 2,
     "metadata": {},
     "output_type": "execute_result"
    }
   ],
   "source": [
    "housing_categorical = housing_no_missing.copy()\n",
    "\n",
    "housing_categorical.loc[housing_categorical[\"elevator\"]==1 , \"elevator\"]=\"has elevator\"\n",
    "housing_categorical.loc[housing_categorical[\"elevator\"]==0 , \"elevator\"]=\"no elevator\"\n",
    "\n",
    "housing_categorical.loc[housing_categorical[\"subway\"]==1 , \"subway\"]=\"has subway\"\n",
    "housing_categorical.loc[housing_categorical[\"subway\"]==0 , \"subway\"]=\"no subway\"\n",
    "\n",
    "housing_categorical.loc[housing_categorical[\"buildingStructure\"]==1 , \"buildingStructure\"]=\"unknown\"\n",
    "housing_categorical.loc[housing_categorical[\"buildingStructure\"]==2 , \"buildingStructure\"]=\"mixed\"\n",
    "housing_categorical.loc[housing_categorical[\"buildingStructure\"]==3 , \"buildingStructure\"]=\"brick and wood\"\n",
    "housing_categorical.loc[housing_categorical[\"buildingStructure\"]==4 , \"buildingStructure\"]=\"concrete\"\n",
    "housing_categorical.loc[housing_categorical[\"buildingStructure\"]==5 , \"buildingStructure\"]=\"steel\"\n",
    "housing_categorical.loc[housing_categorical[\"buildingStructure\"]==6 , \"buildingStructure\"]=\"steel-concrete comosite\"\n",
    "\n",
    "housing_categorical.loc[housing_categorical[\"renovationCondition\"]==1 , \"renovationCondition\"]=\"other\"\n",
    "housing_categorical.loc[housing_categorical[\"renovationCondition\"]==2 , \"renovationCondition\"]=\"rough\"\n",
    "housing_categorical.loc[housing_categorical[\"renovationCondition\"]==3 , \"renovationCondition\"]=\"Simplicity\"\n",
    "housing_categorical.loc[housing_categorical[\"renovationCondition\"]==4 , \"renovationCondition\"]=\"hardcover\"\n",
    "\n",
    "\n",
    "housing_categorical"
   ]
  },
  {
   "attachments": {},
   "cell_type": "markdown",
   "metadata": {
    "id": "YYl2ZGTlG_7j"
   },
   "source": [
    "let review columns format again."
   ]
  },
  {
   "cell_type": "code",
   "execution_count": 29,
   "metadata": {
    "colab": {
     "base_uri": "https://localhost:8080/"
    },
    "id": "AgS2duUjHCAt",
    "outputId": "566374ba-7921-46ff-da6e-87361b0c3cee"
   },
   "outputs": [
    {
     "name": "stdout",
     "output_type": "stream",
     "text": [
      "<class 'pandas.core.frame.DataFrame'>\n",
      "RangeIndex: 318819 entries, 0 to 318818\n",
      "Data columns (total 18 columns):\n",
      " #   Column               Non-Null Count   Dtype  \n",
      "---  ------               --------------   -----  \n",
      " 0   Lng                  318819 non-null  float64\n",
      " 1   Lat                  318819 non-null  float64\n",
      " 2   tradeTime            318819 non-null  object \n",
      " 3   DOM                  318819 non-null  float64\n",
      " 4   totalPrice           318819 non-null  float64\n",
      " 5   square               318819 non-null  float64\n",
      " 6   livingRoom           318819 non-null  int64  \n",
      " 7   drawingRoom          318819 non-null  int64  \n",
      " 8   kitchen              318819 non-null  int64  \n",
      " 9   bathRoom             318819 non-null  int64  \n",
      " 10  floor                318819 non-null  object \n",
      " 11  constructionTime     318819 non-null  object \n",
      " 12  renovationCondition  318819 non-null  object \n",
      " 13  buildingStructure    318819 non-null  object \n",
      " 14  ladderRatio          318819 non-null  float64\n",
      " 15  elevator             318819 non-null  object \n",
      " 16  subway               318819 non-null  object \n",
      " 17  district             318819 non-null  int64  \n",
      "dtypes: float64(6), int64(5), object(7)\n",
      "memory usage: 43.8+ MB\n"
     ]
    }
   ],
   "source": [
    "housing_categorical.info()"
   ]
  },
  {
   "attachments": {},
   "cell_type": "markdown",
   "metadata": {},
   "source": [
    "columns with String values have Object type. Also, some columns with number values have object type too! now we want to convert them to suitable format.\n",
    "first let’s see unique values of columns\n",
    "\n"
   ]
  },
  {
   "cell_type": "code",
   "execution_count": 30,
   "metadata": {
    "colab": {
     "base_uri": "https://localhost:8080/"
    },
    "id": "8b_qw2h8HErS",
    "outputId": "ac46b9d7-2801-4870-9c91-799abb826f04"
   },
   "outputs": [
    {
     "name": "stdout",
     "output_type": "stream",
     "text": [
      "constructionTime :  ['2005' '2004' '2008' '1960' '1997' '2009' '2006' '1991' '2001' '1990'\n",
      " '2011' '2000' '1998' '2010' '1996' '1993' '2002' '未知' '2012' '1989'\n",
      " '2003' '2007' '1994' '1984' '1992' '2014' '1985' '2013' '1999' '1979'\n",
      " '1981' '1976' '1982' '1975' '1983' '1986' '1995' '1965' '1988' '1987'\n",
      " '2015' '1955' '1980' '1978' '1958' '1970' '1956' '1977' '1964' '1963'\n",
      " '1967' '2016' '1974' '1973' '1959' '1954' '1962' '1966' '1957' '1944'\n",
      " '1972' '1971' '1953' '1968' '1961' '1950' '1952' '1933' '1969' '1906'\n",
      " '1934' '1914']\n",
      "floor :  ['高 26' '高 22' '中 4' '底 21' '中 6' '中 8' '高 6' '高 10' '中 23' '底 11' '底 3'\n",
      " '高 24' '低 23' '中 19' '高 18' '低 25' '中 12' '中 14' '中 30' '中 27' '中 5'\n",
      " '低 18' '底 28' '中 11' '低 9' '顶 7' '顶 27' '低 6' '中 17' '顶 6' '中 24' '中 15'\n",
      " '底 5' '中 29' '顶 19' '顶 5' '中 9' '低 22' '顶 18' '低 16' '高 13' '高 9' '高 17'\n",
      " '底 6' '中 28' '低 26' '底 15' '高 16' '底 2' '低 7' '中 13' '低 33' '底 14' '高 15'\n",
      " '底 4' '顶 11' '中 32' '顶 16' '底 18' '顶 17' '低 14' '低 10' '底 20' '高 12'\n",
      " '低 31' '低 30' '低 19' '低 12' '中 10' '中 16' '顶 20' '底 19' '中 31' '低 13'\n",
      " '底 10' '高 25' '中 21' '中 20' '高 20' '低 21' '低 24' '顶 4' '高 21' '高 7'\n",
      " '中 22' '底 1' '中 7' '底 8' '顶 15' '中 18' '高 28' '顶 14' '顶 13' '低 20' '底 26'\n",
      " '低 17' '顶 24' '底 23' '顶 3' '顶 21' '底 24' '高 30' '高 11' '底 25' '高 27'\n",
      " '底 9' '低 11' '低 28' '低 15' '顶 26' '低 34' '顶 12' '中 25' '高 8' '底 17'\n",
      " '高 32' '高 19' '底 7' '顶 28' '顶 9' '高 31' '中 26' '顶 2' '顶 8' '底 32' '中 42'\n",
      " '底 30' '低 32' '底 16' '低 3' '底 22' '高 14' '高 23' '底 27' '底 13' '低 27'\n",
      " '顶 23' '低 29' '顶 22' '高 29' '中 34' '顶 25' '高 34' '顶 10' '低 37' '底 12'\n",
      " '未知 6' '顶 32' '低 42' '顶 30' '底 33' '高 42' '低 8' '高 33' '中 33' '顶 29'\n",
      " '底 29' '未知 15' '高 37' '低 36' '低 35' '顶 34' '高 36' '中 37' '中 35' '底 31'\n",
      " '未知 12' '顶 31' '低 63' '未知 21' '底 34' '中 57' '顶 33' '未知 11' '未知 7' '未知 10'\n",
      " '未知 18' '未知 8' '未知 14' '未知 4' '未知 5' '未知 3' '未知 27' '未知 25' '未知 20'\n",
      " '未知 26' '未知 9' '未知 22' '未知 23' '未知 16' '未知 19' '未知 28' '中 36' '未知 17'\n",
      " '未知 13' '低 2' '未知 29' '未知 24' '未知 30' '未知 31' '低 5']\n"
     ]
    }
   ],
   "source": [
    "print('constructionTime : ',housing_categorical.constructionTime.unique())\n",
    "print('floor : ',housing_categorical.floor.unique())"
   ]
  },
  {
   "attachments": {},
   "cell_type": "markdown",
   "metadata": {},
   "source": [
    "in \"constructionTime\" columns we have one chines word that means \"not defined\". because number of this rows are few, we can remove them from our dataset. And then convert columns type to int"
   ]
  },
  {
   "cell_type": "code",
   "execution_count": 3,
   "metadata": {
    "colab": {
     "base_uri": "https://localhost:8080/"
    },
    "id": "WONPluZdgetg",
    "outputId": "b7906b79-bfe3-494a-8566-11225dabaf22"
   },
   "outputs": [],
   "source": [
    "Housing_construction = housing_categorical.copy()\n",
    "# df[ df[ “column” ].str.contains( “someString” )==False ]\n",
    "Housing_construction = Housing_construction[Housing_construction[\"constructionTime\"].str.contains(\"未知\") ==False]\n",
    "Housing_construction.loc[: , \"constructionTime\"]=Housing_construction.loc[: , \"constructionTime\"].astype(int)\n",
    "# Housing_construction = None # to do"
   ]
  },
  {
   "attachments": {},
   "cell_type": "markdown",
   "metadata": {},
   "source": [
    "in \"floor\" columns we have some chines word that means (up,down,middle).we can separate number and chines word to 2 separated columns. But now we want only keep numbers. And then convert columns to int."
   ]
  },
  {
   "cell_type": "code",
   "execution_count": 4,
   "metadata": {
    "colab": {
     "base_uri": "https://localhost:8080/"
    },
    "id": "2Ce-Zm1ViWkr",
    "outputId": "3f77e819-5131-4f2c-ef45-f63e6e86b543"
   },
   "outputs": [
    {
     "data": {
      "text/plain": [
       "0         26\n",
       "1         22\n",
       "2          4\n",
       "3         21\n",
       "4          6\n",
       "          ..\n",
       "318813     9\n",
       "318814     5\n",
       "318815    24\n",
       "318816     7\n",
       "318817     5\n",
       "Name: floor, Length: 299536, dtype: int32"
      ]
     },
     "execution_count": 4,
     "metadata": {},
     "output_type": "execute_result"
    }
   ],
   "source": [
    "\n",
    "housing_floor = Housing_construction.copy()\n",
    "housing_floor['floor'] = housing_floor['floor'].str.extract('(\\d+)').astype(int)\n",
    "housing_floor[\"floor\"]\n",
    "# housing_floor = None # to do"
   ]
  },
  {
   "cell_type": "code",
   "execution_count": 5,
   "metadata": {
    "colab": {
     "base_uri": "https://localhost:8080/"
    },
    "id": "-fBTeGg0iXtM",
    "outputId": "075d696d-e015-4a23-e083-f78172f5abe6"
   },
   "outputs": [
    {
     "name": "stdout",
     "output_type": "stream",
     "text": [
      "<class 'pandas.core.frame.DataFrame'>\n",
      "Int64Index: 299536 entries, 0 to 318817\n",
      "Data columns (total 18 columns):\n",
      " #   Column               Non-Null Count   Dtype  \n",
      "---  ------               --------------   -----  \n",
      " 0   Lng                  299536 non-null  float64\n",
      " 1   Lat                  299536 non-null  float64\n",
      " 2   tradeTime            299536 non-null  object \n",
      " 3   DOM                  299536 non-null  float64\n",
      " 4   totalPrice           299536 non-null  float64\n",
      " 5   square               299536 non-null  float64\n",
      " 6   livingRoom           299536 non-null  int64  \n",
      " 7   drawingRoom          299536 non-null  int64  \n",
      " 8   kitchen              299536 non-null  int64  \n",
      " 9   bathRoom             299536 non-null  int64  \n",
      " 10  floor                299536 non-null  int32  \n",
      " 11  constructionTime     299536 non-null  int32  \n",
      " 12  renovationCondition  299536 non-null  object \n",
      " 13  buildingStructure    299536 non-null  object \n",
      " 14  ladderRatio          299536 non-null  float64\n",
      " 15  elevator             299536 non-null  object \n",
      " 16  subway               299536 non-null  object \n",
      " 17  district             299536 non-null  int64  \n",
      "dtypes: float64(6), int32(2), int64(5), object(5)\n",
      "memory usage: 41.1+ MB\n"
     ]
    }
   ],
   "source": [
    "housing_floor.info()"
   ]
  },
  {
   "attachments": {},
   "cell_type": "markdown",
   "metadata": {},
   "source": [
    "There may be houses that are too big or too expensive, or on the contrary, there may be houses that are too cheap or too small and far from the average. In some data analysis tasks, outliers can change the results in an unfavorable way. For example, the graphs are garbled or, in machine learning tasks, the data may mislead the algorithm. In this section, we will remove some houses that have one or more outlandish or unusual features.\n"
   ]
  },
  {
   "attachments": {},
   "cell_type": "markdown",
   "metadata": {},
   "source": [
    "One of the best ways to identify and remove outliers is to use quartiles and box plots.\n",
    "We draw a box plot of the price column."
   ]
  },
  {
   "cell_type": "code",
   "execution_count": 6,
   "metadata": {
    "colab": {
     "base_uri": "https://localhost:8080/",
     "height": 283
    },
    "id": "1YKMMpuqi4U8",
    "outputId": "79a0a7e6-e6e0-49e6-d806-772e56d4e51b"
   },
   "outputs": [
    {
     "data": {
      "text/plain": [
       "<AxesSubplot:>"
      ]
     },
     "execution_count": 6,
     "metadata": {},
     "output_type": "execute_result"
    },
    {
     "data": {
      "image/png": "[encoded data removed]",
      "text/plain": [
       "<Figure size 432x288 with 1 Axes>"
      ]
     },
     "metadata": {
      "needs_background": "light"
     },
     "output_type": "display_data"
    }
   ],
   "source": [
    "housing_floor.totalPrice.plot(kind = 'box')"
   ]
  },
  {
   "attachments": {},
   "cell_type": "markdown",
   "metadata": {},
   "source": [
    "we want to remove houses whose total price does not fall within one and a half times the interquartile range"
   ]
  },
  {
   "cell_type": "code",
   "execution_count": 7,
   "metadata": {
    "colab": {
     "base_uri": "https://localhost:8080/"
    },
    "id": "ni8v9UuukxrX",
    "outputId": "2bcad13f-e73f-4c1a-cf15-373f200461c7"
   },
   "outputs": [
    {
     "data": {
      "text/plain": [
       "14496"
      ]
     },
     "execution_count": 7,
     "metadata": {},
     "output_type": "execute_result"
    }
   ],
   "source": [
    "housing_no_outlier = housing_floor.copy()\n",
    "\n",
    "q1 = housing_no_outlier[\"totalPrice\"].quantile(0.25)\n",
    "q3 = housing_no_outlier[\"totalPrice\"].quantile(0.75)\n",
    "iqr = q3 - q1\n",
    "\n",
    "housing_no_outlier.drop(housing_no_outlier[ ((housing_no_outlier[\"totalPrice\"]<q1- iqr*1.5) | (housing_no_outlier[\"totalPrice\"]>q3+ iqr*1.5))].index , inplace=True )\n",
    "\n",
    "housing_floor.shape[0] - housing_no_outlier.shape[0]"
   ]
  },
  {
   "attachments": {},
   "cell_type": "markdown",
   "metadata": {},
   "source": [
    "as you see in below after removing those houses, our box plot figure better ."
   ]
  },
  {
   "cell_type": "code",
   "execution_count": 8,
   "metadata": {
    "colab": {
     "base_uri": "https://localhost:8080/",
     "height": 287
    },
    "id": "UkGfgmuIlHj9",
    "outputId": "f840ba2c-4add-4fd1-a837-f4cbdb33022a"
   },
   "outputs": [
    {
     "data": {
      "text/plain": [
       "<AxesSubplot:>"
      ]
     },
     "execution_count": 8,
     "metadata": {},
     "output_type": "execute_result"
    },
    {
     "data": {
      "image/png": "[encoded data removed]",
      "text/plain": [
       "<Figure size 432x288 with 1 Axes>"
      ]
     },
     "metadata": {
      "needs_background": "light"
     },
     "output_type": "display_data"
    }
   ],
   "source": [
    "housing_no_outlier.totalPrice.plot(kind = 'box')"
   ]
  },
  {
   "attachments": {},
   "cell_type": "markdown",
   "metadata": {},
   "source": [
    "now save our dataset for next step"
   ]
  },
  {
   "cell_type": "code",
   "execution_count": 9,
   "metadata": {
    "id": "FDQIagcAlMuD"
   },
   "outputs": [],
   "source": [
    "housing_no_outlier.to_csv('housing_no_outlier.csv', encoding='gbk', index=False)\n"
   ]
  }
 ],
 "metadata": {
  "colab": {
   "collapsed_sections": [],
   "name": "step2.ipynb",
   "provenance": []
  },
  "kernelspec": {
   "display_name": "Python 3.9.12 ('base')",
   "language": "python",
   "name": "python3"
  },
  "language_info": {
   "codemirror_mode": {
    "name": "ipython",
    "version": 3
   },
   "file_extension": ".py",
   "mimetype": "text/x-python",
   "name": "python",
   "nbconvert_exporter": "python",
   "pygments_lexer": "ipython3",
   "version": "3.9.12"
  },
  "vscode": {
   "interpreter": {
    "hash": "39a820cb6228b99f37f39fbb649dd2b86436e0419dcc7c63f4704b792a5688ed"
   }
  }
 },
 "nbformat": 4,
 "nbformat_minor": 4
}
